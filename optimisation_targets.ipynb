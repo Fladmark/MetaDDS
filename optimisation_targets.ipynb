{
 "cells": [
  {
   "cell_type": "code",
   "execution_count": 1,
   "outputs": [],
   "source": [
    "from stl_samplers import AugmentedOUDFollmerSDESTL\n",
    "from config import get_architecture_specs, get_ref_process\n",
    "from objectives import *\n",
    "from toy_targets import funnel, carrillo\n",
    "import matplotlib.pyplot as plt\n"
   ],
   "metadata": {
    "collapsed": false,
    "ExecuteTime": {
     "start_time": "2023-04-18T13:31:00.025898Z",
     "end_time": "2023-04-18T13:31:02.216996Z"
    }
   }
  },
  {
   "cell_type": "code",
   "execution_count": 2,
   "outputs": [],
   "source": [
    "architecture_specs = get_architecture_specs()\n",
    "ref_process = get_ref_process()\n",
    "\n",
    "model_def = AugmentedOUDFollmerSDESTL(\n",
    "    sigma=ref_process.sigma,\n",
    "    dim=ref_process.data_dim,\n",
    "    drift_network=ref_process.drift_network,\n",
    "    tfinal=ref_process.tfinal,\n",
    "    dt=ref_process.dt,\n",
    "    step_scheme=ref_process.step_scheme,\n",
    "    alpha=ref_process.alpha,\n",
    "    target=ref_process.target,\n",
    "    tpu=ref_process.tpu,\n",
    "    detach_stl_drift=ref_process.detach_stl_drift,\n",
    "    diff_net=ref_process.diff_net,\n",
    "    detach_dritf_path=ref_process.detach_dritf_path,\n",
    "    detach_dif_path=ref_process.detach_dif_path,\n",
    "    m=ref_process.m,\n",
    "    log=ref_process.log,\n",
    "    exp_bool=ref_process.exp_bool,\n",
    "    exact=ref_process.exact\n",
    ")"
   ],
   "metadata": {
    "collapsed": false,
    "ExecuteTime": {
     "start_time": "2023-04-18T13:31:02.218446Z",
     "end_time": "2023-04-18T13:31:02.221133Z"
    }
   }
  },
  {
   "cell_type": "code",
   "execution_count": 3,
   "outputs": [
    {
     "name": "stdout",
     "output_type": "stream",
     "text": [
      "tensor(105.3028, grad_fn=<MeanBackward0>)\n",
      "Epoch 1, time of execution: 35.748926401138306\n",
      "tensor(88.7584, grad_fn=<MeanBackward0>)\n",
      "Epoch 2, time of execution: 37.634530782699585\n",
      "tensor(66.5441, grad_fn=<MeanBackward0>)\n",
      "Epoch 3, time of execution: 38.144811153411865\n",
      "tensor(64.9721, grad_fn=<MeanBackward0>)\n",
      "Epoch 4, time of execution: 38.173665046691895\n",
      "tensor(44.4605, grad_fn=<MeanBackward0>)\n",
      "Epoch 5, time of execution: 38.6832230091095\n",
      "tensor(52.9727, grad_fn=<MeanBackward0>)\n",
      "Epoch 6, time of execution: 38.69487166404724\n",
      "tensor(49.5019, grad_fn=<MeanBackward0>)\n",
      "Epoch 7, time of execution: 39.07055687904358\n",
      "tensor(46.6311, grad_fn=<MeanBackward0>)\n",
      "Epoch 8, time of execution: 38.78816103935242\n",
      "tensor(41.4237, grad_fn=<MeanBackward0>)\n",
      "Epoch 9, time of execution: 39.06094408035278\n",
      "tensor(39.1497, grad_fn=<MeanBackward0>)\n",
      "Epoch 10, time of execution: 38.50442314147949\n",
      "tensor(36.7315, grad_fn=<MeanBackward0>)\n",
      "Epoch 11, time of execution: 38.90545201301575\n",
      "tensor(22.2586, grad_fn=<MeanBackward0>)\n",
      "Epoch 12, time of execution: 39.33748197555542\n",
      "tensor(26.6371, grad_fn=<MeanBackward0>)\n",
      "Epoch 13, time of execution: 38.805848121643066\n",
      "tensor(26.2231, grad_fn=<MeanBackward0>)\n",
      "Epoch 14, time of execution: 39.30176377296448\n",
      "tensor(23.5734, grad_fn=<MeanBackward0>)\n",
      "Epoch 15, time of execution: 39.34063506126404\n",
      "tensor(19.7486, grad_fn=<MeanBackward0>)\n",
      "Epoch 16, time of execution: 50.12848520278931\n",
      "tensor(21.9083, grad_fn=<MeanBackward0>)\n",
      "Epoch 17, time of execution: 43.56328201293945\n",
      "tensor(19.3374, grad_fn=<MeanBackward0>)\n",
      "Epoch 18, time of execution: 38.58480787277222\n",
      "tensor(24.5170, grad_fn=<MeanBackward0>)\n",
      "Epoch 19, time of execution: 38.18987488746643\n",
      "tensor(20.4564, grad_fn=<MeanBackward0>)\n",
      "Epoch 20, time of execution: 42.67696213722229\n",
      "tensor(20.7861, grad_fn=<MeanBackward0>)\n",
      "Epoch 21, time of execution: 38.61619591712952\n",
      "tensor(20.0394, grad_fn=<MeanBackward0>)\n",
      "Epoch 22, time of execution: 41.90181493759155\n",
      "tensor(20.1994, grad_fn=<MeanBackward0>)\n",
      "Epoch 23, time of execution: 38.50826025009155\n",
      "tensor(21.6833, grad_fn=<MeanBackward0>)\n",
      "Epoch 24, time of execution: 38.94453024864197\n",
      "tensor(17.7289, grad_fn=<MeanBackward0>)\n",
      "Epoch 25, time of execution: 51.96126389503479\n",
      "tensor(19.4632, grad_fn=<MeanBackward0>)\n",
      "Epoch 26, time of execution: 39.29050588607788\n",
      "tensor(19.0149, grad_fn=<MeanBackward0>)\n",
      "Epoch 27, time of execution: 38.74048614501953\n",
      "tensor(22.1031, grad_fn=<MeanBackward0>)\n",
      "Epoch 28, time of execution: 42.61194705963135\n",
      "tensor(15.8608, grad_fn=<MeanBackward0>)\n",
      "Epoch 29, time of execution: 43.604774951934814\n",
      "tensor(15.0895, grad_fn=<MeanBackward0>)\n",
      "Epoch 30, time of execution: 41.66259002685547\n",
      "tensor(18.1168, grad_fn=<MeanBackward0>)\n",
      "Epoch 31, time of execution: 51.437339067459106\n",
      "tensor(14.5121, grad_fn=<MeanBackward0>)\n",
      "Epoch 32, time of execution: 57.11828970909119\n",
      "tensor(16.2650, grad_fn=<MeanBackward0>)\n",
      "Epoch 33, time of execution: 236.196635723114\n",
      "tensor(15.9966, grad_fn=<MeanBackward0>)\n",
      "Epoch 34, time of execution: 39.5559401512146\n",
      "tensor(12.2993, grad_fn=<MeanBackward0>)\n",
      "Epoch 35, time of execution: 40.10945987701416\n",
      "tensor(17.0047, grad_fn=<MeanBackward0>)\n",
      "Epoch 36, time of execution: 40.08359122276306\n",
      "tensor(13.2520, grad_fn=<MeanBackward0>)\n",
      "Epoch 37, time of execution: 38.76808714866638\n",
      "tensor(17.3344, grad_fn=<MeanBackward0>)\n",
      "Epoch 38, time of execution: 39.07600998878479\n",
      "tensor(13.8719, grad_fn=<MeanBackward0>)\n",
      "Epoch 39, time of execution: 38.82111716270447\n",
      "tensor(12.8593, grad_fn=<MeanBackward0>)\n",
      "Epoch 40, time of execution: 39.3115611076355\n",
      "tensor(12.1177, grad_fn=<MeanBackward0>)\n",
      "Epoch 41, time of execution: 38.13925004005432\n",
      "tensor(11.0577, grad_fn=<MeanBackward0>)\n",
      "Epoch 42, time of execution: 39.063063621520996\n",
      "tensor(11.2519, grad_fn=<MeanBackward0>)\n",
      "Epoch 43, time of execution: 39.351218938827515\n",
      "tensor(13.0275, grad_fn=<MeanBackward0>)\n",
      "Epoch 44, time of execution: 39.258795976638794\n",
      "tensor(11.3055, grad_fn=<MeanBackward0>)\n",
      "Epoch 45, time of execution: 39.52074909210205\n",
      "tensor(9.5199, grad_fn=<MeanBackward0>)\n",
      "Epoch 46, time of execution: 38.21218013763428\n",
      "tensor(10.1846, grad_fn=<MeanBackward0>)\n",
      "Epoch 47, time of execution: 38.46199083328247\n",
      "tensor(11.5228, grad_fn=<MeanBackward0>)\n",
      "Epoch 48, time of execution: 38.73824691772461\n",
      "tensor(10.2577, grad_fn=<MeanBackward0>)\n",
      "Epoch 49, time of execution: 39.16991305351257\n",
      "tensor(9.3444, grad_fn=<MeanBackward0>)\n",
      "Epoch 50, time of execution: 44.58904027938843\n"
     ]
    }
   ],
   "source": [
    "import time\n",
    "\n",
    "all_trajectories = []\n",
    "\n",
    "for i in range(1, 51):\n",
    "    s_t = time.time()\n",
    "\n",
    "    aug_trajectory = model_def(batch_size=200, is_training=True, ode=False)\n",
    "\n",
    "    #print(aug_trajectory)\n",
    "    all_trajectories.append(aug_trajectory)\n",
    "\n",
    "    g = ou_terminal_loss(lnpi=ref_process.target,\n",
    "                         sigma=ref_process.sigma,\n",
    "                         tfinal=ref_process.tfinal,\n",
    "                         brown=False)\n",
    "\n",
    "    loss = relative_kl_objective(augmented_trajectory=aug_trajectory,\n",
    "                                 g=g,\n",
    "                                 stl=False,\n",
    "                                 trim=2,\n",
    "                                 dim=ref_process.data_dim)\n",
    "\n",
    "    print(loss)\n",
    "    adam = torch.optim.Adam(ref_process.drift_network.parameters(), lr=0.0005)\n",
    "    adam.zero_grad()\n",
    "    loss.backward()\n",
    "\n",
    "    # for name, param in ref_process.drift_network.named_parameters():\n",
    "    #     if param.requires_grad:\n",
    "    #         print(name, param.grad)\n",
    "    #\n",
    "    # torch.nn.utils.clip_grad_norm_(ref_process.drift_network.parameters(), max_norm=1)\n",
    "\n",
    "\n",
    "\n",
    "    adam.step()\n",
    "\n",
    "    e_t = time.time()\n",
    "\n",
    "    print(f\"Epoch {i}, time of execution: {e_t - s_t}\")\n",
    "\n",
    "    # if i % 10 == 0:\n",
    "    #     x, v = [], []\n",
    "    #     for i in aug_trajectory[0][:, -1, :10]:\n",
    "    #         v.append(i[0].detach().numpy())\n",
    "    #         x.append(i[1].detach().numpy())\n",
    "    #\n",
    "    #     fig, axes = plt.subplots(1, 2, constrained_layout=True)\n",
    "    #     ax = axes[0]\n",
    "    #     ax.scatter(x, v, marker=\".\", alpha=0.05, rasterized=True)\n",
    "    #     ax.set_xlim(-5, 5)\n",
    "    #     ax.set_ylim(-5, 5)\n",
    "    #     ax.set_xlabel(\"$x_0$\")\n",
    "    #     ax.set_ylabel(\"$v$\")\n",
    "    #\n",
    "    #     ax = axes[1]\n",
    "    #     ax.scatter(x, v, marker=\".\", alpha=0.05, rasterized=True)\n",
    "    #     ax.set_xlim(-20, 20)\n",
    "    #     ax.set_ylim(-9, 9)\n",
    "    #     ax.set_xlabel(\"$x_0$\")\n",
    "    #     ax.set_ylabel(\"$v$\")\n",
    "    #\n",
    "    #     plt.show()\n"
   ],
   "metadata": {
    "collapsed": false,
    "ExecuteTime": {
     "start_time": "2023-04-18T13:31:02.223011Z",
     "end_time": "2023-04-18T14:08:04.396964Z"
    }
   }
  },
  {
   "cell_type": "code",
   "execution_count": 4,
   "outputs": [],
   "source": [
    "#aug_trajectory_for_plotting = model_def(batch_size=300, is_training=True, ode=False)"
   ],
   "metadata": {
    "collapsed": false,
    "ExecuteTime": {
     "start_time": "2023-04-18T14:08:04.392485Z",
     "end_time": "2023-04-18T14:08:04.397842Z"
    }
   }
  },
  {
   "cell_type": "code",
   "execution_count": 5,
   "outputs": [],
   "source": [
    "#print(aug_trajectory_for_plotting[0])#.shape)"
   ],
   "metadata": {
    "collapsed": false,
    "ExecuteTime": {
     "start_time": "2023-04-18T14:08:04.395390Z",
     "end_time": "2023-04-18T14:08:04.397949Z"
    }
   }
  },
  {
   "cell_type": "code",
   "execution_count": 6,
   "outputs": [],
   "source": [
    "# v = []\n",
    "# for traj in all_trajectories:\n",
    "#     curr = []\n",
    "#     for i in traj[0][:, -1, :10]:\n",
    "#         curr.append(i[0].detach().numpy())\n",
    "#     v.append(np.mean(curr))\n",
    "#\n",
    "# print(v)\n",
    "#\n",
    "# for i in carrillo(torch.tensor(v)):\n",
    "#     print(round(float(i), 3))"
   ],
   "metadata": {
    "collapsed": false,
    "ExecuteTime": {
     "start_time": "2023-04-18T14:08:04.397606Z",
     "end_time": "2023-04-18T14:08:04.402313Z"
    }
   }
  },
  {
   "cell_type": "code",
   "execution_count": 7,
   "outputs": [],
   "source": [
    "aug_trajectory_for_plotting = model_def(batch_size=200, is_training=True, ode=False)"
   ],
   "metadata": {
    "collapsed": false,
    "ExecuteTime": {
     "start_time": "2023-04-18T14:08:04.399379Z",
     "end_time": "2023-04-18T14:09:02.012285Z"
    }
   }
  },
  {
   "cell_type": "code",
   "execution_count": null,
   "outputs": [
    {
     "name": "stdout",
     "output_type": "stream",
     "text": [
      "0\n",
      "1\n",
      "2\n",
      "3\n",
      "4\n",
      "5\n",
      "6\n",
      "7\n",
      "8\n",
      "9\n",
      "10\n",
      "11\n",
      "12\n",
      "13\n",
      "14\n",
      "15\n",
      "16\n",
      "17\n",
      "18\n",
      "19\n",
      "20\n",
      "21\n",
      "22\n",
      "23\n",
      "24\n",
      "25\n",
      "26\n",
      "27\n",
      "28\n",
      "29\n",
      "30\n",
      "31\n",
      "32\n",
      "33\n",
      "34\n",
      "35\n",
      "36\n",
      "37\n",
      "38\n",
      "39\n",
      "40\n",
      "41\n",
      "42\n",
      "43\n",
      "44\n",
      "45\n",
      "46\n",
      "47\n",
      "48\n"
     ]
    }
   ],
   "source": [
    "aug_trajectory_for_plotting_ode = model_def(batch_size=10, is_training=False, ode=True)\n",
    "traj = aug_trajectory_for_plotting_ode[0]\n",
    "for i in range(99):\n",
    "    t_i = model_def(batch_size=10, is_training=True, ode=True)\n",
    "    traj = torch.concat([traj, t_i[0]])\n",
    "    print(i)\n",
    "\n",
    "# for loop it"
   ],
   "metadata": {
    "collapsed": false,
    "ExecuteTime": {
     "start_time": "2023-04-18T10:33:13.680331Z",
     "end_time": "2023-04-18T10:50:43.789402Z"
    }
   }
  },
  {
   "cell_type": "code",
   "execution_count": null,
   "outputs": [],
   "source": [
    "print(torch.concat([aug_trajectory_for_plotting_ode[0], aug_trajectory_for_plotting_ode1[0]]).shape)"
   ],
   "metadata": {
    "collapsed": false,
    "ExecuteTime": {
     "start_time": "2023-04-18T08:27:57.932987Z",
     "end_time": "2023-04-18T08:27:57.938458Z"
    }
   }
  },
  {
   "cell_type": "code",
   "execution_count": null,
   "outputs": [],
   "source": [
    "\n",
    "sde_targ = aug_trajectory_for_plotting[0][:, -1,:2].detach().numpy()\n",
    "plt.plot(sde_targ[:, 0], sde_targ[:, 1], \".\", alpha=0.4)"
   ],
   "metadata": {
    "collapsed": false,
    "ExecuteTime": {
     "start_time": "2023-04-18T01:29:08.536683Z",
     "end_time": "2023-04-18T01:29:09.971630Z"
    }
   }
  },
  {
   "cell_type": "code",
   "execution_count": null,
   "outputs": [],
   "source": [
    "ode_targ = aug_trajectory_for_plotting_ode[0][:, -1,:2].detach().numpy()\n",
    "ode_targ = traj[:, -1,:2].detach().numpy()\n",
    "plt.plot(ode_targ[:, 0], ode_targ[:, 1], \".\", alpha=0.4)"
   ],
   "metadata": {
    "collapsed": false,
    "ExecuteTime": {
     "start_time": "2023-04-18T11:17:20.726197Z",
     "end_time": "2023-04-18T11:17:20.841843Z"
    }
   }
  },
  {
   "cell_type": "code",
   "execution_count": null,
   "outputs": [],
   "source": [
    "data = []\n",
    "for sample in aug_trajectory_for_plotting_ode[0]:\n",
    "    print(sample[-1])\n",
    "    s = sample[-1][0].detach().numpy()\n",
    "    data.append(s)\n",
    "    print(s)\n"
   ],
   "metadata": {
    "collapsed": false,
    "ExecuteTime": {
     "start_time": "2023-04-18T06:46:00.540710Z",
     "end_time": "2023-04-18T06:46:00.569586Z"
    }
   }
  },
  {
   "cell_type": "code",
   "execution_count": null,
   "outputs": [],
   "source": [
    "# generate some sample data\n",
    "#data = np.random.randn(1000)\n",
    "# create the histogram\n",
    "plt.hist(data, bins=50)\n",
    "\n",
    "# set the x and y axis labels\n",
    "plt.xlabel('Value')\n",
    "plt.ylabel('Frequency')\n",
    "\n",
    "# show the plot\n",
    "plt.show()"
   ],
   "metadata": {
    "collapsed": false,
    "ExecuteTime": {
     "start_time": "2023-04-18T06:46:21.549536Z",
     "end_time": "2023-04-18T06:46:21.634489Z"
    }
   }
  },
  {
   "cell_type": "code",
   "execution_count": null,
   "outputs": [],
   "source": [],
   "metadata": {
    "collapsed": false,
    "ExecuteTime": {
     "start_time": "2023-04-18T01:29:09.728806Z",
     "end_time": "2023-04-18T01:29:10.962479Z"
    }
   }
  },
  {
   "cell_type": "code",
   "execution_count": null,
   "outputs": [],
   "source": [
    "# plot data\n",
    "fig, axes = plt.subplots(1, 2, constrained_layout=True)\n",
    "ax = axes[0]\n",
    "ax.scatter(x, v, marker=\".\", alpha=0.05, rasterized=True)\n",
    "ax.set_xlim(-5, 5)\n",
    "ax.set_ylim(-5, 5)\n",
    "ax.set_xlabel(\"$x_0$\")\n",
    "ax.set_ylabel(\"$v$\")\n",
    "\n",
    "# plot analytic log-likelihood\n",
    "ax = axes[1]\n",
    "ax.scatter(x_i, v_i, marker=\".\", alpha=0.05, rasterized=True)\n",
    "ax.set_xlim(-20, 20)\n",
    "ax.set_ylim(-9, 9)\n",
    "ax.set_xlabel(\"$x_0$\")\n",
    "ax.set_ylabel(\"$v$\")\n",
    "\n",
    "plt.show()"
   ],
   "metadata": {
    "collapsed": false,
    "ExecuteTime": {
     "start_time": "2023-04-04T17:50:40.345616Z",
     "end_time": "2023-04-04T17:50:40.558350Z"
    }
   }
  },
  {
   "cell_type": "code",
   "execution_count": null,
   "outputs": [],
   "source": [
    "x, v = [], []\n",
    "for i in aug_trajectory_for_plotting[0][:, -1, :10]:\n",
    "    v.append(i[0].detach().numpy())\n",
    "    x.append(i[1].detach().numpy())\n",
    "\n",
    "fig, axes = plt.subplots(1, 2, constrained_layout=True)\n",
    "ax = axes[0]\n",
    "ax.scatter(x, v, marker=\".\", alpha=0.05, rasterized=True)\n",
    "ax.set_xlim(-5, 5)\n",
    "ax.set_ylim(-5, 5)\n",
    "ax.set_xlabel(\"$x_0$\")\n",
    "ax.set_ylabel(\"$v$\")\n",
    "\n",
    "ax = axes[1]\n",
    "ax.scatter(x, v, marker=\".\", alpha=0.05, rasterized=True)\n",
    "ax.set_xlim(-20, 20)\n",
    "ax.set_ylim(-9, 9)\n",
    "ax.set_xlabel(\"$x_0$\")\n",
    "ax.set_ylabel(\"$v$\")\n",
    "\n",
    "plt.show()"
   ],
   "metadata": {
    "collapsed": false,
    "ExecuteTime": {
     "start_time": "2023-04-04T17:50:40.561735Z",
     "end_time": "2023-04-04T17:50:40.716440Z"
    }
   }
  },
  {
   "cell_type": "code",
   "execution_count": null,
   "outputs": [],
   "source": [
    "\n",
    "t1, sam1 = funnel(10, 1)\n",
    "t3, sam3 = funnel(10, 3)\n",
    "\n",
    "b1 = sam1(100)\n",
    "b3 = sam3(100)\n",
    "\n",
    "print(sum(t1(b1)), sum(t3(b1)))\n",
    "\n",
    "print(sum(t1(b1)), sum(t3(b3)))"
   ],
   "metadata": {
    "collapsed": false,
    "ExecuteTime": {
     "start_time": "2023-04-09T17:18:45.919526Z",
     "end_time": "2023-04-09T17:18:46.093825Z"
    }
   }
  },
  {
   "cell_type": "code",
   "execution_count": null,
   "outputs": [],
   "source": [],
   "metadata": {
    "collapsed": false
   }
  }
 ],
 "metadata": {
  "kernelspec": {
   "display_name": "Python 3",
   "language": "python",
   "name": "python3"
  },
  "language_info": {
   "codemirror_mode": {
    "name": "ipython",
    "version": 2
   },
   "file_extension": ".py",
   "mimetype": "text/x-python",
   "name": "python",
   "nbconvert_exporter": "python",
   "pygments_lexer": "ipython2",
   "version": "2.7.6"
  }
 },
 "nbformat": 4,
 "nbformat_minor": 0
}
